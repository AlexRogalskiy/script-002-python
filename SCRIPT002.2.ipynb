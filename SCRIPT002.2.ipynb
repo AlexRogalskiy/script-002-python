{
 "cells": [
  {
   "cell_type": "markdown",
   "metadata": {},
   "source": [
    "## Data Types. Module 2"
   ]
  },
  {
   "cell_type": "markdown",
   "metadata": {},
   "source": [
    "## Values example"
   ]
  },
  {
   "cell_type": "code",
   "execution_count": 2,
   "metadata": {},
   "outputs": [
    {
     "name": "stdout",
     "output_type": "stream",
     "text": [
      "Python-3 long integer examples\n",
      "Distance to Andromeda galaxy(m) =  760573465946000\n",
      "google (10*100) =  10000000000000000000000000000000000000000000000000000000000000000000000000000000000000000000000000000\n",
      "\n",
      "Python-3 float examples\n",
      "f1 =  3.141592653589793\n",
      "f2 =  2.1e-56\n",
      "Ops! do not comare floats to equivalence: '.1 + .1 + .1 == .3' is False!\n",
      " False\n",
      "\n",
      "Python-3 complex examples\n",
      "x =  (1+2j)\n",
      "x.real =  1.0\n",
      "x.imag =  2.0\n"
     ]
    }
   ],
   "source": [
    "import math\n",
    "\n",
    "print (\"Python-3 long integer examples\")\n",
    "\n",
    "distance_to_Andromeda_galaxy_ly = 2537000 #light years\n",
    "light_speed = 299792458 # m/s\n",
    "distance_to_Andromeda_galaxy_m = distance_to_Andromeda_galaxy_ly * light_speed\n",
    "print(\"Distance to Andromeda galaxy(m) = \", distance_to_Andromeda_galaxy_m)\n",
    "\n",
    "print(\"google (10*100) = \", 10**100)\n",
    "\n",
    "print (\"\\nPython-3 float examples\")\n",
    "\n",
    "f1 = math.pi\n",
    "print(\"f1 = \", f1)\n",
    "f2 = 2.1e-56\n",
    "print(\"f2 = \", f2)\n",
    "print(\"Ops! do not comare floats to equivalence: '.1 + .1 + .1 == .3' is False!\\n\", .1 + .1 + .1 == .3) \n",
    "\n",
    "print (\"\\nPython-3 complex examples\")\n",
    "\n",
    "x = complex(1, 2)\n",
    "print(\"x = \", x)\n",
    "print(\"x.real = \", x.real)\n",
    "print(\"x.imag = \", x.imag)\n",
    "\n"
   ]
  },
  {
   "cell_type": "markdown",
   "metadata": {},
   "source": [
    "## Simple String example"
   ]
  },
  {
   "cell_type": "code",
   "execution_count": 3,
   "metadata": {},
   "outputs": [
    {
     "name": "stdout",
     "output_type": "stream",
     "text": [
      "\n",
      "*** Quotes example. ***\n",
      "\n",
      "char 'a'. str1 can include single quotes\n",
      "name \"Some\". str2 can include double quotes\n",
      "  \n",
      "        Triple quotes.\n",
      "        str3 can include\n",
      "        several lines and other qoutes\n",
      "\n",
      "*** Escape characters and raw strings example. ***\n",
      "\n",
      "It is Windows path: d:\\Program Files\\some program\n",
      "Lines and tabs:\n",
      "\tLine 1\n",
      "\tLine 2\n",
      "\tLine 3\n",
      "No escape, all as is: \\\\, \\n, \\t\n",
      "\n",
      "*** F-strings. Strings with place holders  ***\n",
      "\n",
      "John is 12 years old\n"
     ]
    }
   ],
   "source": [
    "print(\"\\n*** Quotes example. ***\\n\")\n",
    "\n",
    "str1 = \"char 'a'. str1 can include single quotes\"\n",
    "str2 = 'name \"Some\". str2 can include double quotes'\n",
    "str3 = \"\"\"  \n",
    "        Triple quotes.\n",
    "        str3 can include\n",
    "        several lines and other qoutes\"\"\"\n",
    "\n",
    "print(str1)\n",
    "print(str2)\n",
    "print(str3)\n",
    "           \n",
    "print(\"\\n*** Escape characters and raw strings example. ***\\n\")\n",
    "\n",
    "str1 = \"It is Windows path: d:\\\\Program Files\\\\some program\"\n",
    "str2 = \"Lines and tabs:\\n\\tLine 1\\n\\tLine 2\\n\\tLine 3\"\n",
    "str3 = r\"No escape, all as is: \\\\, \\n, \\t\"\n",
    "\n",
    "print(str1)\n",
    "print(str2)\n",
    "print(str3)\n",
    "\n",
    "print(\"\\n*** F-strings. Strings with place holders  ***\\n\")\n",
    "\n",
    "name = \"John\"\n",
    "age = 12\n",
    "print (f\"{name} is {age} years old\")\n",
    "\n"
   ]
  },
  {
   "cell_type": "markdown",
   "metadata": {},
   "source": [
    "## String Format example"
   ]
  },
  {
   "cell_type": "code",
   "execution_count": 13,
   "metadata": {},
   "outputs": [
    {
     "name": "stdout",
     "output_type": "stream",
     "text": [
      "Formatting with positional and named arguments\n",
      "one two\n",
      "two one\n",
      "1 2\n",
      "Jean-Luc Picard\n",
      "Add some padding\n",
      "test______\n",
      "______test\n",
      "___test___\n",
      "Add specific formatting to named value\n",
      "_______(1, 2)_______\n",
      "_______(1, 2)_______\n",
      "_______ 3.14________\n",
      "_______-3.14________\n"
     ]
    }
   ],
   "source": [
    "print('Formatting with positional and named arguments')\n",
    "print('{} {}'.format('one', 'two')) \n",
    "print('{1} {0}'.format('one', 'two') )\n",
    "print('{} {}'.format(1, 2))\n",
    "print('{first_name} {last_name}'.format(last_name='Picard', first_name='Jean-Luc'))\n",
    " \n",
    "print('Add some padding')\n",
    "print('{:_<10}'.format('test'))\n",
    "print('{:_>10}'.format('test'))\n",
    "print('{:_^10}'.format('test'))\n",
    " \n",
    "print('Add specific formatting to named value')\n",
    "print('{result!s:_^20}'.format(result=(1, 2)))\n",
    "print('{result!r:_^20}'.format(result=(1, 2)))\n",
    "\n",
    "print('{result:_^ 20.2f}'.format(result=3.141))\n",
    "print('{result:_^ 20.2f}'.format(result=-3.141))\n"
   ]
  },
  {
   "cell_type": "markdown",
   "metadata": {},
   "source": [
    "## Use slice operator example"
   ]
  },
  {
   "cell_type": "code",
   "execution_count": 4,
   "metadata": {},
   "outputs": [
    {
     "name": "stdout",
     "output_type": "stream",
     "text": [
      "\n",
      "*** Slice example. ***\n",
      "\n",
      "str1 = \"123456789\"\n",
      "str1[1] =  2\n",
      "Pay attention. The last number in the slice is point after diapason!\n",
      "Substring str1[2:5] includes charecters #2,#3,#4 (not #5!)\n",
      "str1[2:5] =  345\n",
      "str1[-2] =  8\n",
      "str1[3:] =  456789\n",
      "str1[:3] =  123\n",
      "str1[:] =  123456789\n",
      "\n",
      "*** Concatination example. ***\n",
      "\n",
      "Johen Black\n",
      "\n",
      "\n",
      "*** Convertion example. ***\n",
      "\n",
      "str_to_int =  125\n",
      "float_to_str = 27.5\n",
      "\n",
      "*** Execution of string as statement example. ***\n",
      "\n",
      "ho-ho\n"
     ]
    }
   ],
   "source": [
    "#Python-3 strings example\n",
    "\n",
    "print(\"\\n*** Slice example. ***\\n\")\n",
    "\n",
    "str1 = \"123456789\"\n",
    "print('str1 = \"123456789\"')\n",
    "print(\"str1[1] = \", str1[1])\n",
    "print(\"Pay attention. The last number in the slice is point after diapason!\")\n",
    "print(\"Substring str1[2:5] includes charecters #2,#3,#4 (not #5!)\")\n",
    "print(\"str1[2:5] = \", str1[2:5])\n",
    "print(\"str1[-2] = \", str1[-2])\n",
    "print(\"str1[3:] = \", str1[3:])\n",
    "print(\"str1[:3] = \", str1[:3])\n",
    "print(\"str1[:] = \", str1[:])\n",
    "\n",
    "print(\"\\n*** Concatination example. ***\\n\")\n",
    "str1 = \"Johen\"\n",
    "str2 = \"Black\"\n",
    "print( str1 + \" \" + str2 + \"\\n\")\n",
    "\n",
    "print(\"\\n*** Convertion example. ***\\n\")\n",
    "str_to_int = int(\"125\")\n",
    "print(\"str_to_int = \", str_to_int)\n",
    "float_to_str = str(\"27.5\")\n",
    "print(\"float_to_str = \" + float_to_str)\n",
    "\n",
    "print(\"\\n*** Execution of string as statement example. ***\\n\")\n",
    "op =\"print('ho-ho')\"\n",
    "exec(op)\n"
   ]
  },
  {
   "cell_type": "markdown",
   "metadata": {},
   "source": [
    "## Exercises 2\n",
    "\n",
    "**Input  string from user. Check String for palindromes.**\n",
    "\n",
    "Use following string for test:\n",
    "\n",
    "* \"god saw I was dog\"\n",
    "Program should be print \"Palindrome\"\n",
    "* \"I like python\"\n",
    "Program should be print \"No palindrome\"\n",
    "\n",
    "You can use following operators:\n",
    "```\n",
    "input(\"input string>\")\n",
    "\n",
    "if expression:\n",
    "    operators\n",
    "    when expression\n",
    "    is true\n",
    "else:\n",
    "    operators\n",
    "    when expression \n",
    "    is false\n",
    "    \n",
    "print(\"result\")\n",
    "```"
   ]
  },
  {
   "cell_type": "code",
   "execution_count": 39,
   "metadata": {},
   "outputs": [],
   "source": [
    "#type here you solution. You can remove this comment"
   ]
  },
  {
   "cell_type": "markdown",
   "metadata": {},
   "source": [
    "## List"
   ]
  },
  {
   "cell_type": "markdown",
   "metadata": {},
   "source": [
    "### Simple example"
   ]
  },
  {
   "cell_type": "code",
   "execution_count": 40,
   "metadata": {},
   "outputs": [
    {
     "name": "stdout",
     "output_type": "stream",
     "text": [
      "\n",
      "*** Some List operations. ***\n",
      "\n",
      "number of elements =  6\n",
      "minimum =  1\n",
      "summa =  21\n",
      "sorted =  [1, 2, 3, 4, 5, 6]\n"
     ]
    }
   ],
   "source": [
    "\n",
    "print(\"\\n*** Some List operations. ***\\n\")\n",
    "\n",
    "list1 = [1,4,3,2,5,6]\n",
    "n = len(list1)\n",
    "print(\"number of elements = \", n ) \n",
    "print(\"minimum = \", min(list1))\n",
    "print(\"summa = \", sum(list1))\n",
    "print(\"sorted = \", sorted(list1))\n"
   ]
  },
  {
   "cell_type": "markdown",
   "metadata": {},
   "source": [
    "### Compare and contatenate list"
   ]
  },
  {
   "cell_type": "code",
   "execution_count": 41,
   "metadata": {},
   "outputs": [
    {
     "name": "stdout",
     "output_type": "stream",
     "text": [
      "\n",
      "*** List comparing. ***\n",
      "\n",
      "True\n",
      "True\n",
      "False\n",
      "False\n",
      "True\n",
      "False\n",
      "\n",
      "*** List concatenation. ***\n",
      "\n",
      "[1, 2, 3, 4, 5, 6, 1, 1, 100, 1, 1, 1, 1]\n",
      "\n",
      "*** List sorting. ***\n",
      "\n",
      "[1, 1, 1, 1, 1, 1, 1, 2, 3, 4, 5, 6, 100]\n",
      "[1, 1, 1, 1, 1, 1, 100]\n"
     ]
    }
   ],
   "source": [
    "print(\"\\n*** List comparing. ***\\n\")\n",
    "list1 = [1,2,3,4,5,6]\n",
    "list2 = [2,3,4,5,6,7]\n",
    "list3 = [2,3,4,5,0,0]\n",
    "list4 = [0,0,0,0,0,0,0] \n",
    "list5 = [1,1,100,1,1,1,1] \n",
    "list6 = [1,2,3,4,5,6,0]\n",
    "list7 = [[4,2],[3,4]] \n",
    "list8 = [[3],[1,0,0]]\n",
    "\n",
    "print(list2 > list1) # True\n",
    "print(list3 > list1) # True\n",
    "print(list4 > list1) # False\n",
    "print(list5 > list1) # False\n",
    "print(list6 > list1) # True\n",
    "print(list8 > list7) # False (recursive comparing) \n",
    "\n",
    "list_mix = [[\"b\"], [123]]\n",
    "#print(list_mix.sort()) #throw exception TypeError: '<' not supported between instances of 'int' and 'str'\n",
    "\n",
    "print(\"\\n*** List concatenation. ***\\n\")\n",
    "list8 = list1 + list5\n",
    "print(list8) \n",
    "\n",
    "print(\"\\n*** List sorting. ***\\n\")\n",
    "print(sorted(list8)) # return list\n",
    "list5.sort() # do not return list\n",
    "print(list5)\n"
   ]
  },
  {
   "cell_type": "markdown",
   "metadata": {},
   "source": [
    "\n",
    "### copy and deepcopy list"
   ]
  },
  {
   "cell_type": "code",
   "execution_count": 43,
   "metadata": {},
   "outputs": [
    {
     "name": "stdout",
     "output_type": "stream",
     "text": [
      "\n",
      "*** list1=list2 is not copy! ***\n",
      "\n",
      "list1 = list2 is not copy!\n",
      "list2 =  [1, -1, 3, 4]\n",
      "list1 =  [1, -1, 3, 4]\n",
      "\n",
      "*** Shallow copy copies one level only! ***\n",
      "\n",
      "looks as independent copy. \n",
      "list2 =  [0, [-1, -2, -3], 2, 3, 4]\n",
      "list1 =  [1, [-1, -2, -3], 2, 3]\n",
      "\n",
      "Ops! It was not recursive! References are shared!\n",
      "list2 =  [0, [-1, -10, -3], 2, 3, 4]\n",
      "list1 =  [1, [-1, -10, -3], 2, 3]\n",
      "\n",
      "*** Real deep copy ***\n",
      "\n",
      "copy.deepcopy is real deep copy.\n",
      "list2 =  [-10, [-1, -100, -3], 2, 3, 4, -200]\n",
      "list1 =  [0, [-1, -10, -3], 2, 3, 4]\n"
     ]
    }
   ],
   "source": [
    "import copy \n",
    "print(\"\\n*** list1=list2 is not copy! ***\\n\")\n",
    "list1 = []\n",
    "list2 = [1,2,3,4]\n",
    "list1 = list2\n",
    "list2[1] = -1\n",
    "print(\"list1 = list2 is not copy!\\nlist2 = \", list2)\n",
    "print(\"list1 = \", list1)\n",
    "\n",
    "print(\"\\n*** Shallow copy copies one level only! ***\\n\")\n",
    "list1 = []\n",
    "list2 = [1,[-1,-2,-3],2,3]\n",
    "list1 = list2.copy()\n",
    "list2.append(4)\n",
    "list2[0] = 0;\n",
    "print(\"looks as independent copy. \\nlist2 = \", list2)\n",
    "print(\"list1 = \", list1)\n",
    "list2[1][1] = -10\n",
    "print(\"\\nOps! It was not recursive! References are shared!\\nlist2 = \", list2)\n",
    "print(\"list1 = \", list1)\n",
    "\n",
    "print(\"\\n*** Real deep copy ***\\n\")\n",
    "list1 = copy.deepcopy(list2)\n",
    "list2[1][1] = -100\n",
    "list2[0]=-10\n",
    "list2.append(-200)\n",
    "print(\"copy.deepcopy is real deep copy.\\nlist2 = \", list2)\n",
    "print(\"list1 = \", list1)\n"
   ]
  },
  {
   "cell_type": "markdown",
   "metadata": {},
   "source": [
    "## Tuples"
   ]
  },
  {
   "cell_type": "markdown",
   "metadata": {},
   "source": [
    "### Simple Tuples Sample"
   ]
  },
  {
   "cell_type": "code",
   "execution_count": 44,
   "metadata": {},
   "outputs": [
    {
     "name": "stdout",
     "output_type": "stream",
     "text": [
      "\n",
      "*** Simple tuple ***\n",
      "\n",
      "There are enough tuples in real life.\n",
      "Seasons, for example:  ('winter', 'spring', 'summer', 'autumn')\n",
      "\n",
      "*** Create tuple from list ***\n",
      "\n",
      "(3, 4)\n",
      "\n",
      "*** Function can return tuple ***\n",
      "\n",
      "(0, 0)\n",
      "\n",
      "*** Tuple as a key of a dictionary ***\n",
      "\n",
      "Half-life of uranium-238 =  4468000000.0\n",
      "\n",
      "*** Tuple can include references to changing values ***\n",
      "\n",
      "Tuple includes list. tp[0][0] =  10\n",
      "The list inside tuple was changed. tp[0][0] =  -100\n"
     ]
    }
   ],
   "source": [
    "print(\"\\n*** Simple tuple ***\\n\")\n",
    "seasons = (\"winter\", \"spring\", \"summer\", \"autumn\")\n",
    "print(\"There are enough tuples in real life.\\nSeasons, for example: \", seasons)\n",
    "\n",
    "print(\"\\n*** Create tuple from list ***\\n\")\n",
    "a, b = 3, 4\n",
    "c = tuple([a,b])\n",
    "print(c)\n",
    "\n",
    "print(\"\\n*** Function can return tuple ***\\n\")\n",
    "def zero_coord():\n",
    "     return 0,0 \n",
    "zc = zero_coord()\n",
    "print(zc)\n",
    "\n",
    "print(\"\\n*** Tuple as a key of a dictionary ***\\n\")\n",
    "half_life = {\t(\"uranium\",235):7.04e8,\n",
    "\t(\"uranium\",238):4.468e9,\n",
    "\t(\"plutonium\",239):2.41e4,\n",
    "\t(\"plutonium\",240):6500\n",
    "\t}\n",
    "print(\"Half-life of uranium-238 = \", half_life[(\"uranium\",238)] )\n",
    "\n",
    "print(\"\\n*** Tuple can include references to changing values ***\\n\")\n",
    "tp = ([10],) # if you miss ',' it will be integer in parentheses\n",
    "print(\"Tuple includes list. tp[0][0] = \", tp[0][0])\n",
    "tp[0][0] = -100\n",
    "print(\"The list inside tuple was changed. tp[0][0] = \", tp[0][0])\n",
    "\t\n"
   ]
  },
  {
   "cell_type": "markdown",
   "metadata": {},
   "source": [
    "## Dictionaries"
   ]
  },
  {
   "cell_type": "markdown",
   "metadata": {},
   "source": [
    "### Simple Dictionaries Sample"
   ]
  },
  {
   "cell_type": "code",
   "execution_count": 46,
   "metadata": {},
   "outputs": [
    {
     "name": "stdout",
     "output_type": "stream",
     "text": [
      "{'one': 'First', 2: 'Second', 3: 3}\n",
      "dict_keys(['one', 2, 3])\n",
      "dict_keys(['one', 2, 3])\n",
      "dict_values(['First', 'Second', 3])\n",
      "dict_values(['First', 'Second', 3])\n"
     ]
    }
   ],
   "source": [
    "d = dict() \n",
    "d['one'] = \"First\"\n",
    "d[2] = \"Second\"\n",
    "d[3] = 3\n",
    "print(d)\n",
    "compact_dict = {'one':'First',2:\"Second\",3:3}\n",
    "print(d.keys())\n",
    "print(compact_dict.keys())\n",
    "print(d.values())\n",
    "print(compact_dict.values())\n",
    "\n"
   ]
  },
  {
   "cell_type": "markdown",
   "metadata": {},
   "source": [
    "### Color sample"
   ]
  },
  {
   "cell_type": "code",
   "execution_count": 47,
   "metadata": {},
   "outputs": [
    {
     "name": "stdout",
     "output_type": "stream",
     "text": [
      "{'red': 9, 'blue': 7, 'cyan': 4, 'black': 4, 'orange': 2, 'pink': 2, 'green': 3}\n"
     ]
    }
   ],
   "source": [
    "colors = [\"red\",\"blue\",\"red\", \"cyan\", \"black\", \"blue\", \"red\", \n",
    "          \"red\", \"orange\", \"black\", \"cyan\", \"red\", \"pink\",\n",
    "          \"orange\", \"black\", \"cyan\", \"red\", \"pink\", \"blue\",\n",
    "          \"red\", \"green\", \"blue\", \"red\", \"green\", \"blue\", \n",
    "          \"blue\",\"red\", \"cyan\", \"black\", \"blue\", \"green\"]\n",
    "\n",
    "dc = {} # we will use dictionary of color:counter pairs\n",
    "for cl in colors:\n",
    "    if dc.get(cl) == None:\n",
    "        dc[cl] = 1\n",
    "    else:\n",
    "        dc[cl] = dc[cl]+1\n",
    "\n",
    "print(dc)\t\n"
   ]
  },
  {
   "cell_type": "markdown",
   "metadata": {},
   "source": [
    "### Sets"
   ]
  },
  {
   "cell_type": "markdown",
   "metadata": {},
   "source": [
    "### Simple Set Sample"
   ]
  },
  {
   "cell_type": "code",
   "execution_count": 48,
   "metadata": {},
   "outputs": [
    {
     "name": "stdout",
     "output_type": "stream",
     "text": [
      "Colors:  {'pink', 'blue', 'cyan', 'black', 'green', 'orange', 'red'}\n",
      "Colors count =  7\n"
     ]
    }
   ],
   "source": [
    "colors = [\"red\",\"blue\",\"red\", \"cyan\", \"black\", \"blue\", \"red\", \n",
    "          \"red\", \"orange\", \"black\", \"cyan\", \"red\", \"pink\",\n",
    "          \"orange\", \"black\", \"cyan\", \"red\", \"pink\", \"blue\",\n",
    "          \"red\", \"green\", \"blue\", \"red\", \"green\", \"blue\", \n",
    "          \"blue\",\"red\", \"cyan\", \"black\", \"blue\", \"green\"]\n",
    "\n",
    "unique_colors = set(colors)\n",
    "print(\"Colors: \", unique_colors)\n",
    "print(\"Colors count = \", len(unique_colors))\n"
   ]
  },
  {
   "cell_type": "markdown",
   "metadata": {},
   "source": [
    "## Exercises 3"
   ]
  },
  {
   "cell_type": "markdown",
   "metadata": {},
   "source": [
    "* Create list l1, that contains elements: 'abcd', 786 , 2.23, 'john', 70.2 \n",
    "* Print the complete list l1\n",
    "* Print the first element of the list\n",
    "* Print elements starting from 2nd with the 3rd element\n",
    "* Print Duplicate elements in list\n",
    "\n",
    "You program should be print:\n",
    "\n",
    "> ['abcd', 786, 2.23, 'john', 70.2]\n",
    "\n",
    ">abcd\n",
    "\n",
    ">[786, 2.23]\n",
    "\n",
    ">['abcd', 786, 2.23, 'john', 70.2, 'abcd', 786, 2.23, 'john', 70.2]\n"
   ]
  },
  {
   "cell_type": "code",
   "execution_count": 103,
   "metadata": {},
   "outputs": [],
   "source": [
    "# type your solution here. You can remove this comment"
   ]
  },
  {
   "cell_type": "markdown",
   "metadata": {},
   "source": [
    "* Create list l2, that contains elements: ‘second’, ’123’\n",
    "* Create list l3, that contains l1 and l2. Update l1[1] value. Verify l3 values. \n",
    "* Create list l4, that contains all elements of l2. Updated l2[0] value. Print l4.\n",
    "\n",
    "Your program should be print:\n",
    "\n",
    "> [['abcd', 786, 2.23, 'john', 70.2], ['second', '123']]\n",
    "\n",
    "> [['abcd', 999, 2.23, 'john', 70.2], ['second', '123']]\n",
    "\n",
    "> ['second', '123']\n",
    "\n",
    ">[555, '123']\n",
    "\n",
    ">['second', '123']"
   ]
  },
  {
   "cell_type": "code",
   "execution_count": 104,
   "metadata": {},
   "outputs": [],
   "source": [
    "# type your solution here. You can remove this comme"
   ]
  },
  {
   "cell_type": "markdown",
   "metadata": {},
   "source": [
    "* Create list l5 with 4 elements. \n",
    "* Using slice operator, update first 2 items to have values ‘1’ and ‘2’. \n",
    "* Insert list [7,7,7,7,7,7] after value ‘1’\n",
    "* Insert a copy of itself at the beginning. \n",
    "* Clear list \n",
    "* Create list l6 that has l1, l2, l5 elements as list.  Update first element of list l1. Print l6\n",
    "* Sort and count the items of lists l1,l2,l3. \n",
    "\n",
    "Your program should be print\n",
    "\n",
    "> [1, 2, 3, 4]\n",
    "\n",
    "> [111, 222, 3, 4]\n",
    "\n",
    "> [111, [7, 7, 7, 7, 7, 7], 222, 3, 4]\n",
    "\n",
    "> [[111, [7, 7, 7, 7, 7, 7], 222, 3, 4], 111, [7, 7, 7, 7, 7, 7], 222, 3, 4]\n",
    "\n",
    "> [['abcd', 786, 2.23, 'john', 70.2], [555, '123'], [[111, [7, 7, 7, 7, 7, 7], 222, 3, 4], 111, [7, 7, 7, 7, 7, 7], 222, 3, 4]]\n",
    "\n",
    "> [[9999, 786, 2.23, 'john', 70.2], [555, '123'], [[111, [7, 7, 7, 7, 7, 7], 222, 3, 4], 111, [7, 7, 7, 7, 7, 7], 222, 3, 4]]\n",
    "\n",
    "\n",
    "> ---------------------------------------------------------------------------\n",
    "\n",
    ">TypeError                                 Traceback (most recent call last)\n",
    "\n",
    "> ...\n",
    "\n",
    "> TypeError: '<' not supported between instances of 'str' and 'float'\n",
    "\n",
    "* Please explain errror while try sort l1\n"
   ]
  },
  {
   "cell_type": "code",
   "execution_count": 105,
   "metadata": {},
   "outputs": [],
   "source": [
    "# type your solution here. You can remove this comment"
   ]
  },
  {
   "cell_type": "markdown",
   "metadata": {},
   "source": [
    "* Create tuple t1 that contains elements: 'abcd', 786 , 2.23, 'john', 70.2\n",
    "* Update the first element of the tuple. \n",
    "* Return the number of elements that are forming a tuple. \n",
    "* Create tuple t2 based on l2 elements. \n",
    "* What is the minimum value of tuple t1? Can you sort tuple t1?\n",
    "\n",
    "Your program should be print:\n",
    "\n",
    "> ('abcd', 786, 2.23, 'john', 70.2)\n",
    "\n",
    "> (999, 786, 2.23, 'john', 70.2)\n",
    "\n",
    "> 5\n",
    "> (555, '123')\n",
    "\n",
    "* Please explain why your can't get min value of t1 and can't sort it"
   ]
  },
  {
   "cell_type": "code",
   "execution_count": 101,
   "metadata": {},
   "outputs": [],
   "source": [
    "# type your solution here. You can remove this comment"
   ]
  },
  {
   "cell_type": "markdown",
   "metadata": {},
   "source": [
    "* Create dictionary d1 that contains : 'one':'First',2:\"Second\",3:3\n",
    "* Print dictionary keys. Print dictionary values. \n",
    "* Can you sort a dictionary?\n",
    "* Verify  that  d1  has  key ‘one’.  Get value for key ‘one’.  Get value for key ‘two’ (not 2 – look what will happen, and check type() of the value).\n",
    "* Create dictionary d2 using d1’s keys. Print d2.\n",
    "* Create dictionary d3 having l1, t1 and d2 as values. \n",
    "\n",
    "Your program should be print:\n",
    "\n",
    "> {'one': 'First', 2: 'Second', 3: 3}\n",
    "\n",
    "> True\n",
    "\n",
    "> {'one': 0, 2: 0, 3: 0}\n",
    "\n",
    "> {'l1': [9999, 999, 2.23, 'john', 70.2], 't1': (999, 786, 2.23, 'john', 70.2), 'd2': {'one': 0, 2: 0, 3: 0}}"
   ]
  },
  {
   "cell_type": "code",
   "execution_count": 112,
   "metadata": {},
   "outputs": [],
   "source": [
    "# type your solution here. You can remove this comment"
   ]
  }
 ],
 "metadata": {
  "kernelspec": {
   "display_name": "Python 3",
   "language": "python",
   "name": "python3"
  },
  "language_info": {
   "codemirror_mode": {
    "name": "ipython",
    "version": 3
   },
   "file_extension": ".py",
   "mimetype": "text/x-python",
   "name": "python",
   "nbconvert_exporter": "python",
   "pygments_lexer": "ipython3",
   "version": "3.7.3"
  }
 },
 "nbformat": 4,
 "nbformat_minor": 2
}
