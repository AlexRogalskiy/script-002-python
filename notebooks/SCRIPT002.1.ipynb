{
 "cells": [
  {
   "cell_type": "markdown",
   "metadata": {},
   "source": [
    "# Introduction. Module 1"
   ]
  },
  {
   "cell_type": "code",
   "execution_count": 7,
   "metadata": {},
   "outputs": [],
   "source": [
    "#type text from exercise 1 here. You can remove this comment!"
   ]
  },
  {
   "cell_type": "markdown",
   "metadata": {},
   "source": [
    "Your program should be print: \n",
    "\n",
    "**40 -6.41886116991581 -9.581138830084189**"
   ]
  },
  {
   "cell_type": "markdown",
   "metadata": {},
   "source": [
    "## Example use identifier and comments"
   ]
  },
  {
   "cell_type": "code",
   "execution_count": 10,
   "metadata": {},
   "outputs": [
    {
     "name": "stdout",
     "output_type": "stream",
     "text": [
      "This is\n",
      "using several lines\n",
      "example\n",
      "\n",
      "We can use \"double\" quotes inside 'single quotes' \n",
      "and ' quotes inside other\n",
      "\n",
      "We can print some words by different prints in the same line\n",
      "Some statements in one line. c =  28\n",
      "Raw string \\n prints 'as is' \\n escapes are ignored\n"
     ]
    }
   ],
   "source": [
    "# Python-3 Comment/Quotation/Statements example\n",
    "\n",
    "str1 = \\\n",
    "\"\"\"This is\n",
    "using several lines\n",
    "example\"\"\"\n",
    "\n",
    "print(\n",
    "str1\n",
    ") # statement can take one line or more\n",
    "\n",
    "str2 = '\\nWe can use \"double\" quotes inside \\'single quotes\\' '  # \\' will output as '\n",
    "str3 = \"\\nand ' quotes inside other\\n\"\t\t\t\t\t\t\t# \\n - next line symbol\n",
    "print( str2 + \\\n",
    "str3) # back slash can continue statement\n",
    "\n",
    "print(\"We can \", end = '')\n",
    "print(\"print some words by different prints \", end = '')\n",
    "print(\"in the same line\")\n",
    "\n",
    "a = 5; b = a**2; c = b+3; print(\"Some statements in one line. c = \", c)\n",
    "\n",
    "print(r\"Raw string \\n prints 'as is' \\n escapes are ignored\")\n"
   ]
  },
  {
   "cell_type": "code",
   "execution_count": null,
   "metadata": {},
   "outputs": [],
   "source": []
  }
 ],
 "metadata": {
  "kernelspec": {
   "display_name": "Python 3.10.7 ('venv310': venv)",
   "language": "python",
   "name": "python3"
  },
  "language_info": {
   "codemirror_mode": {
    "name": "ipython",
    "version": 3
   },
   "file_extension": ".py",
   "mimetype": "text/x-python",
   "name": "python",
   "nbconvert_exporter": "python",
   "pygments_lexer": "ipython3",
   "version": "3.10.7"
  },
  "vscode": {
   "interpreter": {
    "hash": "38e75ce933e579243472a492358115ffa3b0cc7ac9685c5e4afa3c08c0540864"
   }
  }
 },
 "nbformat": 4,
 "nbformat_minor": 2
}
